{
  "cells": [
    {
      "cell_type": "raw",
      "metadata": {},
      "source": [
        "---\n",
        "title: Linear Models Review\n",
        "author: YOUR NAME HERE\n",
        "format:\n",
        "  html:\n",
        "    code-fold: true\n",
        "    code-line-numbers: true\n",
        "    code-tools: true\n",
        "editor: visual\n",
        "---"
      ]
    },
    {
      "cell_type": "markdown",
      "metadata": {},
      "source": [
        "## Setup\n",
        "\n",
        "Declare your libraries:\n"
      ]
    },
    {
      "cell_type": "code",
      "metadata": {},
      "source": [
        "#| label: libraries-py\n",
        "#| include: false\n",
        "import pandas as pd\n",
        "from sklearn.pipeline import Pipeline\n",
        "from sklearn.linear_model import LinearRegression\n",
        "from sklearn.metrics import r2_score"
      ],
      "execution_count": null,
      "outputs": []
    },
    {
      "cell_type": "markdown",
      "metadata": {},
      "source": [
        "# The Dataset\n",
        "\n",
        "Today we will use a dataset containing counts of babies born in California with the name \"Kelly\" between 1989 and 2016. Run the chunk below to load the data, and to check out the first few rows of your dataset.\n"
      ]
    },
    {
      "cell_type": "code",
      "metadata": {},
      "source": [
        "kelly_df = pd.read_csv(\"https://www.dropbox.com/s/jbqpw6yevaugtth/kellys_ca.csv?dl=1\")\n",
        "kelly_df.head()"
      ],
      "execution_count": null,
      "outputs": []
    },
    {
      "cell_type": "markdown",
      "metadata": {},
      "source": [
        "The first thing we need to do with any dataset is check for missing data, and make sure the variables are the right type:\n"
      ]
    },
    {
      "cell_type": "code",
      "metadata": {},
      "source": [
        "kelly_df.info()"
      ],
      "execution_count": null,
      "outputs": []
    },
    {
      "cell_type": "markdown",
      "metadata": {},
      "source": [
        "Looks good for this data, with one exception:\n",
        "\n",
        "\n",
        "\n",
        "The \"Gender\" variable is being treated as an \"object\" variable, i.e., just an ordinary word.\n",
        "\n",
        "But we know it should be *categorical*, aka a *factor* variable. Let's retype the variable to fix this:\n"
      ]
    },
    {
      "cell_type": "code",
      "metadata": {},
      "source": [
        "kelly_df['Gender'] = kelly_df['Gender'].astype('category')\n",
        "kelly_df.info()"
      ],
      "execution_count": null,
      "outputs": []
    },
    {
      "cell_type": "markdown",
      "metadata": {},
      "source": [
        "The next thing we should do is visualize our variables to get a feel for what is going on in this data.\n"
      ]
    },
    {
      "cell_type": "code",
      "metadata": {},
      "source": [
        "plt.plot(kelly_df['Year'], kelly_df['Count'])\n",
        "plt.show()"
      ],
      "execution_count": null,
      "outputs": []
    },
    {
      "cell_type": "markdown",
      "metadata": {},
      "source": [
        "Hmmm.... clearly there is some kind of linear-ish decreasing trend in number of Kellys. But what's going on with the two separate lines?\n",
        "\n",
        "\n",
        "## Fitting a model\n",
        "\n",
        "Let's begin with a simple linear model. We will focus only on the female-assigned Kelly babies for now.\n"
      ]
    },
    {
      "cell_type": "code",
      "metadata": {},
      "source": [
        "kellys_fem = kelly_df[kelly_df['Gender'] == \"F\"]"
      ],
      "execution_count": null,
      "outputs": []
    },
    {
      "cell_type": "markdown",
      "metadata": {},
      "source": [
        "Our first step is to establish a which model(s) we want to try on the data.\n",
        "\n",
        "For now, this is just a simple linear model.\n",
        "\n",
        "\n",
        "\n",
        "To establish the model, we use the `LinearRegression` function was imported from the *scikit-learn* package in our setup chunk. \n"
      ]
    },
    {
      "cell_type": "code",
      "metadata": {},
      "source": [
        "lin_reg = LinearRegression()"
      ],
      "execution_count": null,
      "outputs": []
    },
    {
      "cell_type": "markdown",
      "metadata": {},
      "source": [
        "Next, we will **fit** the model to our data:\n"
      ]
    },
    {
      "cell_type": "code",
      "metadata": {},
      "source": [
        "lin_reg.fit(X = kellys_fem[['Year']], y = kellys_fem['Count'])"
      ],
      "execution_count": null,
      "outputs": []
    },
    {
      "cell_type": "markdown",
      "metadata": {},
      "source": [
        "Let's check out the output of this model fit:\n"
      ]
    },
    {
      "cell_type": "code",
      "metadata": {},
      "source": [
        "lin_reg.coef_\n",
        "r2_score(kellys_fem['Count'], lin_reg.predict(kellys_fem[[\"Year\"]]))"
      ],
      "execution_count": null,
      "outputs": []
    },
    {
      "cell_type": "markdown",
      "metadata": {},
      "source": [
        "How do we interpret this?\n",
        "\n",
        "-   The slope is -29.97. That means there are about 30 fewer female babies named Kelly born each year since 1989!\n",
        "\n",
        "\n",
        "-   The r-squared value is 0.9605. This means 96.05% of the variance in Kelly names over the years is explained by the name going out of style as time passes.\n",
        "\n",
        "## Residuals\n",
        "\n",
        "Now let's look the residuals of the model.\n",
        "\n",
        "First, we can find out what values were predicted by the model:\n"
      ]
    },
    {
      "cell_type": "code",
      "metadata": {},
      "source": [
        "preds = lin_reg.predict(kellys_fem[['Year']])"
      ],
      "execution_count": null,
      "outputs": []
    },
    {
      "cell_type": "markdown",
      "metadata": {},
      "source": [
        "Then, we can calculate and visualize the residuals:\n"
      ]
    },
    {
      "cell_type": "code",
      "metadata": {},
      "source": [
        "resids = preds - kellys_fem['Count']\n",
        "\n",
        "plt.plot(kellys_fem['Year'], resids)\n",
        "plt.show()"
      ],
      "execution_count": null,
      "outputs": []
    },
    {
      "cell_type": "markdown",
      "metadata": {},
      "source": [
        "Do the residuals seem to represent \"random noise\"?\n",
        "\n",
        "That is, was our choice of model reasonable?\n",
        "\n",
        "## Metrics\n",
        "\n",
        "If we are trying to find the \"best\" model, we should measure how well this one did.\n",
        "\n",
        "We can compute the SSE and MSE \"by hand\":\n"
      ]
    },
    {
      "cell_type": "code",
      "metadata": {},
      "source": [
        "sum(resids**2)\n",
        "sum(resids**2)/28"
      ],
      "execution_count": null,
      "outputs": []
    },
    {
      "cell_type": "markdown",
      "metadata": {},
      "source": [
        "# YOUR TURN\n",
        "\n",
        "What about Gender? Is the pattern of decreasing Kelly babies the same for the two Genders? Can you include Gender in the model, and interpret the results?\n",
        "\n",
        "With your group, create a new notebook (you can copy this one if you want), and fit a model using both Year *and* Gender as predictors. Report your results."
      ]
    }
  ],
  "metadata": {
    "kernelspec": {
      "name": "python3",
      "language": "python",
      "display_name": "Python 3 (ipykernel)"
    }
  },
  "nbformat": 4,
  "nbformat_minor": 4
}