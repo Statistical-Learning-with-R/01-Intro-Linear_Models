{
  "cells": [
    {
      "cell_type": "raw",
      "metadata": {},
      "source": [
        "---\n",
        "title: Welcome to Quarto!\n",
        "author: YOUR NAME HERE\n",
        "format:\n",
        "  html:\n",
        "    code-fold: true\n",
        "    code-line-numbers: true\n",
        "    code-tools: true\n",
        "editor: visual\n",
        "---"
      ]
    },
    {
      "cell_type": "markdown",
      "metadata": {},
      "source": [
        "## Quarto\n",
        "\n",
        "Quarto enables you to weave together content and executable code into a finished document. To learn more about Quarto see <https://quarto.org>.\n",
        "\n",
        "The advantage of Quarto is that you can intersperse your text with your code and output with your ordinary text. This makes it easier to create nicely formatted reports, showing both the statistical analysis and the written discussion.\n",
        "\n",
        "When you click the **Render** button a document will be generated that includes both content as well as the output of any embedded code chunks within the document:\n"
      ]
    },
    {
      "cell_type": "code",
      "metadata": {},
      "source": [
        "#| label: add-py\n",
        "1 + 1"
      ],
      "execution_count": null,
      "outputs": []
    },
    {
      "cell_type": "markdown",
      "metadata": {},
      "source": [
        "## Code Chunks\n",
        "\n",
        "The \"grey areas\" above are called *code chunks*. This means that Quarto understands anything you write inside them to be code that should be executed by the computer.\n",
        "\n",
        "Notice that this does not calculate anything:\n",
        "\n",
        "100\\*35\n",
        "\n",
        "but this does:\n"
      ]
    },
    {
      "cell_type": "code",
      "metadata": {},
      "source": [
        "100*35"
      ],
      "execution_count": null,
      "outputs": []
    },
    {
      "cell_type": "markdown",
      "metadata": {},
      "source": [
        "What about this?\n"
      ]
    },
    {
      "cell_type": "code",
      "metadata": {},
      "source": [
        "# 100*35"
      ],
      "execution_count": null,
      "outputs": []
    },
    {
      "cell_type": "markdown",
      "metadata": {},
      "source": [
        "## Libraries\n",
        "\n",
        "R and python are both *open-source* languages, meaning that they rely on \"add-on\" code, or **packages**, to add to the functionality of the language.\n",
        "\n",
        "Many packages have been pre-installed for you. These include:\n",
        "\n",
        "\n",
        "`pandas` for data manipulation\n",
        "\n",
        "`plotnine` for data visualization\n",
        "\n",
        "`numpy` for math operations\n",
        "\n",
        "`scikit-learn` for statistical learning models\n",
        "\n",
        "\n",
        "Even though packages have been **installed** already, you still need to **declare your dependencies** at the start of every Quarto notebook:\n"
      ]
    },
    {
      "cell_type": "code",
      "metadata": {},
      "source": [
        "import pandas as pd\n",
        "import numpy as np\n",
        "import seaborn as sns"
      ],
      "execution_count": null,
      "outputs": []
    },
    {
      "cell_type": "markdown",
      "metadata": {},
      "source": [
        "In python, we often only import some of the functions from a package, later on when we need to use them.\n"
      ]
    },
    {
      "cell_type": "code",
      "metadata": {},
      "source": [
        "import matplotlib.pyplot as plt"
      ],
      "execution_count": null,
      "outputs": []
    },
    {
      "cell_type": "markdown",
      "metadata": {},
      "source": [
        "Now that we have loaded our packages, we can make some nice visuals:\n"
      ]
    },
    {
      "cell_type": "code",
      "metadata": {},
      "source": [
        "#| label: plot-py\n",
        "#| echo: false\n",
        "#| fig-cap: \"Figure 1. A beautiful plot.\"\n",
        "mtcars = sns.load_dataset(\"mpg\")\n",
        "\n",
        "g = sns.FacetGrid(mtcars, col='cylinders')\n",
        "\n",
        "g = g.map(sns.regplot, 'weight', 'mpg')\n",
        "\n",
        "plt.show()"
      ],
      "execution_count": null,
      "outputs": []
    },
    {
      "cell_type": "markdown",
      "metadata": {},
      "source": [
        "Note that the `echo: false` parameter was added to the code chunk to prevent printing of the code that generated the plot. We also used the `fig-cap` option to give a nice caption. There are many more of these \"chunk options\" that can control the behavior of your output!\n",
        "\n",
        "## Saving, Previewing, Rendering\n",
        "\n",
        "You do **not** have to render the Quarto file to save it. You can save your `.qmd` file in the ordinary ways: File \\> Save, or Control + S, or clicking the disk icon.\n",
        "\n",
        "To preview the file, and see changes in realtime, choose the \"Settings\" wheel and pick \"Preview in Viewer Pane\".\n",
        "\n",
        "When you render the file, you are creating a \"final\" version. Here is what happens:\n",
        "\n",
        "1.  The text is formatted nicely.\n",
        "\n",
        "2.  The code chunks are all run, in order, from scratch.\n",
        "\n",
        "3.  A `.html` file is automatically created with the finished product.\n",
        "\n",
        "This means the order of your code chunks is very important! You might run code in a different order when you are interacting with your notebook directly, but this won't help you when it comes to knitting.\n"
      ]
    },
    {
      "cell_type": "code",
      "metadata": {
        "error": true
      },
      "source": [
        "a.mean()\n",
        "a <- np.arange(1, 5)"
      ],
      "execution_count": null,
      "outputs": []
    },
    {
      "cell_type": "markdown",
      "metadata": {},
      "source": [
        "::: callout-tip\n",
        "Notice the `a.` and `np.` parts! The `a.mean()` says that we apply the `mean()` function to the object `a`. The `np.arange()` part, by contrast, says that the `arange` function came from the `numpy` library that we imported!\n",
        ":::\n",
        "\n",
        "::: callout-caution\n",
        "Recall that in R, `1:5` gave an array of the numbers 1, 2, 3, 4, 5. How is `arange(1,5)` different?\n",
        ":::\n",
        "\n",
        "\n",
        "## R and python\n",
        "\n",
        "Quarto works exactly the same whether you use R and python - but you can't use both at the same time.\n",
        "\n",
        "The only difference is in the top section of the document, called the **YAML**. Can you spot the one line that turns an R-based `.qmd` document (the default) into a python-based one?"
      ]
    }
  ],
  "metadata": {
    "kernelspec": {
      "display_name": "Python 3",
      "language": "python",
      "name": "python3"
    }
  },
  "nbformat": 4,
  "nbformat_minor": 4
}